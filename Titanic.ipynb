{
  "nbformat": 4,
  "nbformat_minor": 0,
  "metadata": {
    "colab": {
      "name": "Titanic.ipynb",
      "provenance": [],
      "mount_file_id": "19t8YozO3fqBqoAOjhN-Y7cWa1-ooeEBf",
      "authorship_tag": "ABX9TyONjUyBvCW+oH6Ik0Zr1h5p"
    },
    "kernelspec": {
      "name": "python3",
      "display_name": "Python 3"
    },
    "language_info": {
      "name": "python"
    }
  },
  "cells": [
    {
      "cell_type": "code",
      "metadata": {
        "id": "gvubd57LeiAw"
      },
      "source": [
        "import pandas as pd\n",
        "import numpy as np\n",
        "import matplotlib.pyplot as plt"
      ],
      "execution_count": 2,
      "outputs": []
    },
    {
      "cell_type": "code",
      "metadata": {
        "id": "Q-pVj3agepFI"
      },
      "source": [
        "df=pd.read_csv(\"/content/drive/MyDrive/Colab Notebooks/titanic (1).csv\")"
      ],
      "execution_count": 3,
      "outputs": []
    },
    {
      "cell_type": "code",
      "metadata": {
        "colab": {
          "base_uri": "https://localhost:8080/",
          "height": 204
        },
        "id": "6Kk4uG3NfBTL",
        "outputId": "71882691-c84d-4aba-f137-41450d2226c7"
      },
      "source": [
        "df.head()"
      ],
      "execution_count": 4,
      "outputs": [
        {
          "output_type": "execute_result",
          "data": {
            "text/html": [
              "<div>\n",
              "<style scoped>\n",
              "    .dataframe tbody tr th:only-of-type {\n",
              "        vertical-align: middle;\n",
              "    }\n",
              "\n",
              "    .dataframe tbody tr th {\n",
              "        vertical-align: top;\n",
              "    }\n",
              "\n",
              "    .dataframe thead th {\n",
              "        text-align: right;\n",
              "    }\n",
              "</style>\n",
              "<table border=\"1\" class=\"dataframe\">\n",
              "  <thead>\n",
              "    <tr style=\"text-align: right;\">\n",
              "      <th></th>\n",
              "      <th>PassengerId</th>\n",
              "      <th>Survived</th>\n",
              "      <th>Pclass</th>\n",
              "      <th>Name</th>\n",
              "      <th>Sex</th>\n",
              "      <th>Age</th>\n",
              "      <th>SibSp</th>\n",
              "      <th>Parch</th>\n",
              "      <th>Ticket</th>\n",
              "      <th>Fare</th>\n",
              "      <th>Cabin</th>\n",
              "      <th>Embarked</th>\n",
              "    </tr>\n",
              "  </thead>\n",
              "  <tbody>\n",
              "    <tr>\n",
              "      <th>0</th>\n",
              "      <td>1</td>\n",
              "      <td>0</td>\n",
              "      <td>3</td>\n",
              "      <td>Braund, Mr. Owen Harris</td>\n",
              "      <td>male</td>\n",
              "      <td>22.0</td>\n",
              "      <td>1</td>\n",
              "      <td>0</td>\n",
              "      <td>A/5 21171</td>\n",
              "      <td>7.2500</td>\n",
              "      <td>NaN</td>\n",
              "      <td>S</td>\n",
              "    </tr>\n",
              "    <tr>\n",
              "      <th>1</th>\n",
              "      <td>2</td>\n",
              "      <td>1</td>\n",
              "      <td>1</td>\n",
              "      <td>Cumings, Mrs. John Bradley (Florence Briggs Th...</td>\n",
              "      <td>female</td>\n",
              "      <td>38.0</td>\n",
              "      <td>1</td>\n",
              "      <td>0</td>\n",
              "      <td>PC 17599</td>\n",
              "      <td>71.2833</td>\n",
              "      <td>C85</td>\n",
              "      <td>C</td>\n",
              "    </tr>\n",
              "    <tr>\n",
              "      <th>2</th>\n",
              "      <td>3</td>\n",
              "      <td>1</td>\n",
              "      <td>3</td>\n",
              "      <td>Heikkinen, Miss. Laina</td>\n",
              "      <td>female</td>\n",
              "      <td>26.0</td>\n",
              "      <td>0</td>\n",
              "      <td>0</td>\n",
              "      <td>STON/O2. 3101282</td>\n",
              "      <td>7.9250</td>\n",
              "      <td>NaN</td>\n",
              "      <td>S</td>\n",
              "    </tr>\n",
              "    <tr>\n",
              "      <th>3</th>\n",
              "      <td>4</td>\n",
              "      <td>1</td>\n",
              "      <td>1</td>\n",
              "      <td>Futrelle, Mrs. Jacques Heath (Lily May Peel)</td>\n",
              "      <td>female</td>\n",
              "      <td>35.0</td>\n",
              "      <td>1</td>\n",
              "      <td>0</td>\n",
              "      <td>113803</td>\n",
              "      <td>53.1000</td>\n",
              "      <td>C123</td>\n",
              "      <td>S</td>\n",
              "    </tr>\n",
              "    <tr>\n",
              "      <th>4</th>\n",
              "      <td>5</td>\n",
              "      <td>0</td>\n",
              "      <td>3</td>\n",
              "      <td>Allen, Mr. William Henry</td>\n",
              "      <td>male</td>\n",
              "      <td>35.0</td>\n",
              "      <td>0</td>\n",
              "      <td>0</td>\n",
              "      <td>373450</td>\n",
              "      <td>8.0500</td>\n",
              "      <td>NaN</td>\n",
              "      <td>S</td>\n",
              "    </tr>\n",
              "  </tbody>\n",
              "</table>\n",
              "</div>"
            ],
            "text/plain": [
              "   PassengerId  Survived  Pclass  ...     Fare Cabin  Embarked\n",
              "0            1         0       3  ...   7.2500   NaN         S\n",
              "1            2         1       1  ...  71.2833   C85         C\n",
              "2            3         1       3  ...   7.9250   NaN         S\n",
              "3            4         1       1  ...  53.1000  C123         S\n",
              "4            5         0       3  ...   8.0500   NaN         S\n",
              "\n",
              "[5 rows x 12 columns]"
            ]
          },
          "metadata": {},
          "execution_count": 4
        }
      ]
    },
    {
      "cell_type": "code",
      "metadata": {
        "colab": {
          "base_uri": "https://localhost:8080/",
          "height": 297
        },
        "id": "hy4Z55HTzwF1",
        "outputId": "35eb84a9-6788-4e35-bb68-bcc1dfcec4f7"
      },
      "source": [
        "df.describe()"
      ],
      "execution_count": 5,
      "outputs": [
        {
          "output_type": "execute_result",
          "data": {
            "text/html": [
              "<div>\n",
              "<style scoped>\n",
              "    .dataframe tbody tr th:only-of-type {\n",
              "        vertical-align: middle;\n",
              "    }\n",
              "\n",
              "    .dataframe tbody tr th {\n",
              "        vertical-align: top;\n",
              "    }\n",
              "\n",
              "    .dataframe thead th {\n",
              "        text-align: right;\n",
              "    }\n",
              "</style>\n",
              "<table border=\"1\" class=\"dataframe\">\n",
              "  <thead>\n",
              "    <tr style=\"text-align: right;\">\n",
              "      <th></th>\n",
              "      <th>PassengerId</th>\n",
              "      <th>Survived</th>\n",
              "      <th>Pclass</th>\n",
              "      <th>Age</th>\n",
              "      <th>SibSp</th>\n",
              "      <th>Parch</th>\n",
              "      <th>Fare</th>\n",
              "    </tr>\n",
              "  </thead>\n",
              "  <tbody>\n",
              "    <tr>\n",
              "      <th>count</th>\n",
              "      <td>891.000000</td>\n",
              "      <td>891.000000</td>\n",
              "      <td>891.000000</td>\n",
              "      <td>714.000000</td>\n",
              "      <td>891.000000</td>\n",
              "      <td>891.000000</td>\n",
              "      <td>891.000000</td>\n",
              "    </tr>\n",
              "    <tr>\n",
              "      <th>mean</th>\n",
              "      <td>446.000000</td>\n",
              "      <td>0.383838</td>\n",
              "      <td>2.308642</td>\n",
              "      <td>29.699118</td>\n",
              "      <td>0.523008</td>\n",
              "      <td>0.381594</td>\n",
              "      <td>32.204208</td>\n",
              "    </tr>\n",
              "    <tr>\n",
              "      <th>std</th>\n",
              "      <td>257.353842</td>\n",
              "      <td>0.486592</td>\n",
              "      <td>0.836071</td>\n",
              "      <td>14.526497</td>\n",
              "      <td>1.102743</td>\n",
              "      <td>0.806057</td>\n",
              "      <td>49.693429</td>\n",
              "    </tr>\n",
              "    <tr>\n",
              "      <th>min</th>\n",
              "      <td>1.000000</td>\n",
              "      <td>0.000000</td>\n",
              "      <td>1.000000</td>\n",
              "      <td>0.420000</td>\n",
              "      <td>0.000000</td>\n",
              "      <td>0.000000</td>\n",
              "      <td>0.000000</td>\n",
              "    </tr>\n",
              "    <tr>\n",
              "      <th>25%</th>\n",
              "      <td>223.500000</td>\n",
              "      <td>0.000000</td>\n",
              "      <td>2.000000</td>\n",
              "      <td>20.125000</td>\n",
              "      <td>0.000000</td>\n",
              "      <td>0.000000</td>\n",
              "      <td>7.910400</td>\n",
              "    </tr>\n",
              "    <tr>\n",
              "      <th>50%</th>\n",
              "      <td>446.000000</td>\n",
              "      <td>0.000000</td>\n",
              "      <td>3.000000</td>\n",
              "      <td>28.000000</td>\n",
              "      <td>0.000000</td>\n",
              "      <td>0.000000</td>\n",
              "      <td>14.454200</td>\n",
              "    </tr>\n",
              "    <tr>\n",
              "      <th>75%</th>\n",
              "      <td>668.500000</td>\n",
              "      <td>1.000000</td>\n",
              "      <td>3.000000</td>\n",
              "      <td>38.000000</td>\n",
              "      <td>1.000000</td>\n",
              "      <td>0.000000</td>\n",
              "      <td>31.000000</td>\n",
              "    </tr>\n",
              "    <tr>\n",
              "      <th>max</th>\n",
              "      <td>891.000000</td>\n",
              "      <td>1.000000</td>\n",
              "      <td>3.000000</td>\n",
              "      <td>80.000000</td>\n",
              "      <td>8.000000</td>\n",
              "      <td>6.000000</td>\n",
              "      <td>512.329200</td>\n",
              "    </tr>\n",
              "  </tbody>\n",
              "</table>\n",
              "</div>"
            ],
            "text/plain": [
              "       PassengerId    Survived      Pclass  ...       SibSp       Parch        Fare\n",
              "count   891.000000  891.000000  891.000000  ...  891.000000  891.000000  891.000000\n",
              "mean    446.000000    0.383838    2.308642  ...    0.523008    0.381594   32.204208\n",
              "std     257.353842    0.486592    0.836071  ...    1.102743    0.806057   49.693429\n",
              "min       1.000000    0.000000    1.000000  ...    0.000000    0.000000    0.000000\n",
              "25%     223.500000    0.000000    2.000000  ...    0.000000    0.000000    7.910400\n",
              "50%     446.000000    0.000000    3.000000  ...    0.000000    0.000000   14.454200\n",
              "75%     668.500000    1.000000    3.000000  ...    1.000000    0.000000   31.000000\n",
              "max     891.000000    1.000000    3.000000  ...    8.000000    6.000000  512.329200\n",
              "\n",
              "[8 rows x 7 columns]"
            ]
          },
          "metadata": {},
          "execution_count": 5
        }
      ]
    },
    {
      "cell_type": "code",
      "metadata": {
        "colab": {
          "base_uri": "https://localhost:8080/"
        },
        "id": "coO2l0rHfDoT",
        "outputId": "d4b125f4-ebed-48d3-e2ef-14f33942bd1b"
      },
      "source": [
        "df.info()"
      ],
      "execution_count": 6,
      "outputs": [
        {
          "output_type": "stream",
          "text": [
            "<class 'pandas.core.frame.DataFrame'>\n",
            "RangeIndex: 891 entries, 0 to 890\n",
            "Data columns (total 12 columns):\n",
            " #   Column       Non-Null Count  Dtype  \n",
            "---  ------       --------------  -----  \n",
            " 0   PassengerId  891 non-null    int64  \n",
            " 1   Survived     891 non-null    int64  \n",
            " 2   Pclass       891 non-null    int64  \n",
            " 3   Name         891 non-null    object \n",
            " 4   Sex          891 non-null    object \n",
            " 5   Age          714 non-null    float64\n",
            " 6   SibSp        891 non-null    int64  \n",
            " 7   Parch        891 non-null    int64  \n",
            " 8   Ticket       891 non-null    object \n",
            " 9   Fare         891 non-null    float64\n",
            " 10  Cabin        204 non-null    object \n",
            " 11  Embarked     889 non-null    object \n",
            "dtypes: float64(2), int64(5), object(5)\n",
            "memory usage: 83.7+ KB\n"
          ],
          "name": "stdout"
        }
      ]
    },
    {
      "cell_type": "code",
      "metadata": {
        "colab": {
          "base_uri": "https://localhost:8080/"
        },
        "id": "amXxH_NHlZVl",
        "outputId": "d32e8509-9d61-4aba-8158-278bf09e7233"
      },
      "source": [
        "df['Survived'].value_counts()"
      ],
      "execution_count": 7,
      "outputs": [
        {
          "output_type": "execute_result",
          "data": {
            "text/plain": [
              "0    549\n",
              "1    342\n",
              "Name: Survived, dtype: int64"
            ]
          },
          "metadata": {},
          "execution_count": 7
        }
      ]
    },
    {
      "cell_type": "code",
      "metadata": {
        "colab": {
          "base_uri": "https://localhost:8080/",
          "height": 265
        },
        "id": "kjYZwFWEga5c",
        "outputId": "7e2a775f-0b23-4fd7-d6e8-187001416bd2"
      },
      "source": [
        "color={'Not Survived':'red','Survived':'blue'}\n",
        "labels=list(color.keys())\n",
        "plt.bar(list(('0','1')),df['Survived'].value_counts(),color=['Red','Blue'])\n",
        "handles =[plt.Rectangle((0,0),1,1, color=color[label]) for label in labels]\n",
        "plt.legend(handles,labels)\n",
        "plt.show()"
      ],
      "execution_count": 8,
      "outputs": [
        {
          "output_type": "display_data",
          "data": {
            "image/png": "[encoded data removed]",
            "text/plain": [
              "<Figure size 432x288 with 1 Axes>"
            ]
          },
          "metadata": {
            "needs_background": "light"
          }
        }
      ]
    },
    {
      "cell_type": "code",
      "metadata": {
        "colab": {
          "base_uri": "https://localhost:8080/"
        },
        "id": "7LPjNpPqhCPZ",
        "outputId": "8c32e823-eb86-4a7a-f571-ed2aa4a6e24c"
      },
      "source": [
        "df['Sex'].value_counts()"
      ],
      "execution_count": 9,
      "outputs": [
        {
          "output_type": "execute_result",
          "data": {
            "text/plain": [
              "male      577\n",
              "female    314\n",
              "Name: Sex, dtype: int64"
            ]
          },
          "metadata": {},
          "execution_count": 9
        }
      ]
    },
    {
      "cell_type": "code",
      "metadata": {
        "colab": {
          "base_uri": "https://localhost:8080/"
        },
        "id": "GP4gNaGQtPFb",
        "outputId": "bcacf30f-8624-4186-d9c4-25341b29a463"
      },
      "source": [
        "men=df.loc[df['Sex']=='male']['Survived']\n",
        "men.head()\n",
        "men.value_counts()"
      ],
      "execution_count": 10,
      "outputs": [
        {
          "output_type": "execute_result",
          "data": {
            "text/plain": [
              "0    468\n",
              "1    109\n",
              "Name: Survived, dtype: int64"
            ]
          },
          "metadata": {},
          "execution_count": 10
        }
      ]
    },
    {
      "cell_type": "code",
      "metadata": {
        "colab": {
          "base_uri": "https://localhost:8080/"
        },
        "id": "ucnB6t7_t-30",
        "outputId": "559b9149-5bd3-46aa-9ad8-bdcb4bf2be99"
      },
      "source": [
        "women=df.loc[df['Sex']=='female']['Survived']\n",
        "women.value_counts()"
      ],
      "execution_count": 11,
      "outputs": [
        {
          "output_type": "execute_result",
          "data": {
            "text/plain": [
              "1    233\n",
              "0     81\n",
              "Name: Survived, dtype: int64"
            ]
          },
          "metadata": {},
          "execution_count": 11
        }
      ]
    },
    {
      "cell_type": "code",
      "metadata": {
        "colab": {
          "base_uri": "https://localhost:8080/",
          "height": 407
        },
        "id": "l9dQm00YuizO",
        "outputId": "e070092b-b89e-4710-9d9a-eb6dffb6b8e1"
      },
      "source": [
        "fig,(axes1,axes2)=plt.subplots(nrows=1,ncols=2,figsize=(12,6))\n",
        "axes1.bar(list(('0','1')),list(women.value_counts().sort_values()),color=['Red','Blue'])\n",
        "axes2.bar(list(('0','1')),list(men.value_counts()),color=['Red','Blue'])\n",
        "axes1.legend(handles,labels)\n",
        "axes2.legend(handles,labels)\n",
        "axes2.set_title('Men Survival')\n",
        "axes1.set_title('Women Survival')"
      ],
      "execution_count": 12,
      "outputs": [
        {
          "output_type": "execute_result",
          "data": {
            "text/plain": [
              "Text(0.5, 1.0, 'Women Survival')"
            ]
          },
          "metadata": {},
          "execution_count": 12
        },
        {
          "output_type": "display_data",
          "data": {
            "image/png": "[encoded data removed]",
            "text/plain": [
              "<Figure size 864x432 with 2 Axes>"
            ]
          },
          "metadata": {
            "needs_background": "light"
          }
        }
      ]
    },
    {
      "cell_type": "code",
      "metadata": {
        "colab": {
          "base_uri": "https://localhost:8080/"
        },
        "id": "UXzWcZqwwNDO",
        "outputId": "6a5f4c51-64f8-4d9c-975c-94b166921f53"
      },
      "source": [
        "print(f\"Percentage of Men survived {round(((sum(men)/len(men))*100),2)}%\")\n",
        "print(f\"Percentage of Women survived {round(((sum(women)/len(women))*100),2)}%\")"
      ],
      "execution_count": 13,
      "outputs": [
        {
          "output_type": "stream",
          "text": [
            "Percentage of Men survived 18.89%\n",
            "Percentage of Women survived 74.2%\n"
          ],
          "name": "stdout"
        }
      ]
    },
    {
      "cell_type": "code",
      "metadata": {
        "colab": {
          "base_uri": "https://localhost:8080/"
        },
        "id": "quQjo0yYzSqI",
        "outputId": "1dd7b499-e073-4a08-825f-12ad4889cd9d"
      },
      "source": [
        "df['Pclass'].value_counts()"
      ],
      "execution_count": 14,
      "outputs": [
        {
          "output_type": "execute_result",
          "data": {
            "text/plain": [
              "3    491\n",
              "1    216\n",
              "2    184\n",
              "Name: Pclass, dtype: int64"
            ]
          },
          "metadata": {},
          "execution_count": 14
        }
      ]
    },
    {
      "cell_type": "code",
      "metadata": {
        "id": "KqfVrkDy1NBz"
      },
      "source": [
        "class1=df.loc[df['Pclass']==1]['Survived']\n",
        "class2=df.loc[df['Pclass']==2]['Survived']\n",
        "class3=df.loc[df['Pclass']==3]['Survived']"
      ],
      "execution_count": 15,
      "outputs": []
    },
    {
      "cell_type": "code",
      "metadata": {
        "colab": {
          "base_uri": "https://localhost:8080/",
          "height": 407
        },
        "id": "qyVuOFj-1e7j",
        "outputId": "dda4b4cd-7d95-4dbf-a69e-b066a71db0c1"
      },
      "source": [
        "fig,(axes1,axes2,axes3)=plt.subplots(nrows=1,ncols=3,figsize=(15,6))\n",
        "axes1.bar(list(('0','1')),list((class1.value_counts().sort_index())),color=['Red','Blue'])\n",
        "axes2.bar(list(('0','1')),list((class2.value_counts().sort_index())),color=['Red','Blue'])\n",
        "axes3.bar(list(('0','1')),list((class3.value_counts().sort_index())),color=['Red','Blue'])\n",
        "axes1.legend(handles,labels)\n",
        "axes2.legend(handles,labels)\n",
        "axes3.legend(handles,labels)\n",
        "axes1.set_title('1st class Survival')\n",
        "axes2.set_title('2nd class Survival')\n",
        "axes3.set_title('3rd class Survival')"
      ],
      "execution_count": 16,
      "outputs": [
        {
          "output_type": "execute_result",
          "data": {
            "text/plain": [
              "Text(0.5, 1.0, '3rd class Survival')"
            ]
          },
          "metadata": {},
          "execution_count": 16
        },
        {
          "output_type": "display_data",
          "data": {
            "image/png": "[encoded data removed]",
            "text/plain": [
              "<Figure size 1080x432 with 3 Axes>"
            ]
          },
          "metadata": {
            "needs_background": "light"
          }
        }
      ]
    },
    {
      "cell_type": "code",
      "metadata": {
        "id": "tlVz7j9D1jSQ",
        "colab": {
          "base_uri": "https://localhost:8080/"
        },
        "outputId": "aadfede5-acfb-49b7-f76a-e3dc6398cef6"
      },
      "source": [
        "print(f\"Percentage of 1st class passengers Survived {round((sum(class1)/len(class1))*100,2)}%\")\n",
        "print(f\"Percentage of 2nd class passengers Survived {round((sum(class2)/len(class2))*100,2)}%\")\n",
        "print(f\"Percentage of 3rd class passengers Survived {round((sum(class3)/len(class3))*100,2)}%\")"
      ],
      "execution_count": 17,
      "outputs": [
        {
          "output_type": "stream",
          "text": [
            "Percentage of 1st class passengers Survived 62.96%\n",
            "Percentage of 2nd class passengers Survived 47.28%\n",
            "Percentage of 3rd class passengers Survived 24.24%\n"
          ],
          "name": "stdout"
        }
      ]
    },
    {
      "cell_type": "code",
      "metadata": {
        "colab": {
          "base_uri": "https://localhost:8080/"
        },
        "id": "ANWjPzrC8U6y",
        "outputId": "43fa9305-044f-4442-b3cf-92d6875d6b6f"
      },
      "source": [
        "child=df.loc[df['Age']<=16]['Survived']\n",
        "Adult_m=df.loc[(df['Age']>=16) & (df['Age']<=50) & (df['Sex']=='male')]['Survived']\n",
        "Adult_f=df.loc[(df['Age']>=16) & (df['Age']<=50) & (df['Sex']=='female')]['Survived']\n",
        "senior=df.loc[df['Age']>50]['Survived']\n",
        "child.value_counts()\n",
        "Adult_m.value_counts()\n",
        "Adult_f.value_counts()\n",
        "senior.value_counts()"
      ],
      "execution_count": 51,
      "outputs": [
        {
          "output_type": "execute_result",
          "data": {
            "text/plain": [
              "0    42\n",
              "1    22\n",
              "Name: Survived, dtype: int64"
            ]
          },
          "metadata": {},
          "execution_count": 51
        }
      ]
    },
    {
      "cell_type": "code",
      "metadata": {
        "id": "WY3jauno99QJ",
        "colab": {
          "base_uri": "https://localhost:8080/",
          "height": 353
        },
        "outputId": "bccdb3f4-e817-444a-de2a-4fb2d732bca8"
      },
      "source": [
        "fig,(ax1,ax2,ax3,ax4)=plt.subplots(nrows=1,ncols=4,figsize=(15,5))\n",
        "ax1.bar(list(('0','1')),child.value_counts().sort_index(),color=['Red','Blue'])\n",
        "ax2.bar(list(('0','1')),Adult_m.value_counts().sort_index(),color=['Red','Blue'])\n",
        "ax3.bar(list(('0','1')),Adult_f.value_counts().sort_index(),color=['Red','Blue'])\n",
        "ax4.bar(list(('0','1')),senior.value_counts().sort_index(),color=['Red','Blue'])\n",
        "ax1.legend(handles,labels)\n",
        "ax2.legend(handles,labels)\n",
        "ax3.legend(handles,labels)\n",
        "ax4.legend(handles,labels)\n",
        "ax1.set_title(\"Children Survival\")\n",
        "ax2.set_title(\"Adult Male Survival\")\n",
        "ax3.set_title(\"Adult female Survival\")\n",
        "ax4.set_title(\"Senior citizen Survival\")"
      ],
      "execution_count": 55,
      "outputs": [
        {
          "output_type": "execute_result",
          "data": {
            "text/plain": [
              "Text(0.5, 1.0, 'Senior citizen Survival')"
            ]
          },
          "metadata": {},
          "execution_count": 55
        },
        {
          "output_type": "display_data",
          "data": {
            "image/png": "[encoded data removed]",
            "text/plain": [
              "<Figure size 1080x360 with 4 Axes>"
            ]
          },
          "metadata": {
            "needs_background": "light"
          }
        }
      ]
    },
    {
      "cell_type": "code",
      "metadata": {
        "colab": {
          "base_uri": "https://localhost:8080/"
        },
        "id": "sUgTyAn8twAr",
        "outputId": "74f8d2f5-c2d6-4c63-f415-aaf010dd086e"
      },
      "source": [
        "print(f\"Percentage of children Survival {round((sum(child)/len(child))*100,1)}%\")\n",
        "print(f\"Percentage of Adult Male Survival {round((sum(Adult_m)/len(Adult_m))*100,1)}%\")\n",
        "print(f\"Percentage of Adult Female Survival {round((sum(Adult_f)/len(Adult_f))*100,1)}%\")\n",
        "print(f\"Percentage of Senior Citizen Survival {round((sum(senior)/len(senior))*100,1)}%\")"
      ],
      "execution_count": 56,
      "outputs": [
        {
          "output_type": "stream",
          "text": [
            "Percentage of children Survival 55.0%\n",
            "Percentage of Adult Male Survival 18.0%\n",
            "Percentage of Adult Female Survival 76.1%\n",
            "Percentage of Senior Citizen Survival 34.4%\n"
          ],
          "name": "stdout"
        }
      ]
    },
    {
      "cell_type": "code",
      "metadata": {
        "colab": {
          "base_uri": "https://localhost:8080/"
        },
        "id": "02vtt0YvuKNk",
        "outputId": "ab1b7364-3c93-48cf-e946-dfda44d29a27"
      },
      "source": [
        "family=df.loc[(df['SibSp']+df['Parch'])>0]['Survived']\n",
        "alone=df.loc[(df['SibSp']+df['Parch'])==0]['Survived']\n",
        "alone.value_counts()\n",
        "family.value_counts()"
      ],
      "execution_count": 63,
      "outputs": [
        {
          "output_type": "execute_result",
          "data": {
            "text/plain": [
              "1    179\n",
              "0    175\n",
              "Name: Survived, dtype: int64"
            ]
          },
          "metadata": {},
          "execution_count": 63
        }
      ]
    },
    {
      "cell_type": "code",
      "metadata": {
        "colab": {
          "base_uri": "https://localhost:8080/",
          "height": 353
        },
        "id": "RKgXv0Ue3dNA",
        "outputId": "027ff533-b254-4b9c-dcfd-eafd63b0d0fc"
      },
      "source": [
        "fig,(ax1,ax2)=plt.subplots(nrows=1,ncols=2,figsize=(8,5))\n",
        "ax1.bar(list(('0','1')),alone.value_counts().sort_index(),color=['Red','Blue'])\n",
        "ax2.bar(list(('0','1')),family.value_counts().sort_index(),color=['Red','Blue'])\n",
        "ax1.legend(handles,labels)\n",
        "ax2.legend(handles,labels)\n",
        "ax1.set_title('Alone Survival')\n",
        "ax2.set_title('Family Survival')"
      ],
      "execution_count": 65,
      "outputs": [
        {
          "output_type": "execute_result",
          "data": {
            "text/plain": [
              "Text(0.5, 1.0, 'Family Survival')"
            ]
          },
          "metadata": {},
          "execution_count": 65
        },
        {
          "output_type": "display_data",
          "data": {
            "image/png": "[encoded data removed]",
            "text/plain": [
              "<Figure size 576x360 with 2 Axes>"
            ]
          },
          "metadata": {
            "needs_background": "light"
          }
        }
      ]
    },
    {
      "cell_type": "code",
      "metadata": {
        "colab": {
          "base_uri": "https://localhost:8080/"
        },
        "id": "uKv_9pM77IRL",
        "outputId": "8e662539-4c4b-426d-f1eb-644b5521f89f"
      },
      "source": [
        "print(f\"Percentage of Alone People Survival {round((sum(alone)/len(alone))*100,1)}%\")\n",
        "print(f\"Percentage of Family People Survival {round((sum(family)/len(family))*100,1)}%\")"
      ],
      "execution_count": 66,
      "outputs": [
        {
          "output_type": "stream",
          "text": [
            "Percentage of Alone People Survival 30.4%\n",
            "Percentage of Family People Survival 50.6%\n"
          ],
          "name": "stdout"
        }
      ]
    },
    {
      "cell_type": "code",
      "metadata": {
        "colab": {
          "base_uri": "https://localhost:8080/"
        },
        "id": "6NNdXCla7yOo",
        "outputId": "f2b713f1-af70-460c-8747-5d1bb451a7d9"
      },
      "source": [
        "df['Embarked'].value_counts()   #S=Southampton,C=Cherbourg,Q=Queenstown"
      ],
      "execution_count": 67,
      "outputs": [
        {
          "output_type": "execute_result",
          "data": {
            "text/plain": [
              "S    644\n",
              "C    168\n",
              "Q     77\n",
              "Name: Embarked, dtype: int64"
            ]
          },
          "metadata": {},
          "execution_count": 67
        }
      ]
    },
    {
      "cell_type": "code",
      "metadata": {
        "colab": {
          "base_uri": "https://localhost:8080/"
        },
        "id": "BDcuBtAs8amR",
        "outputId": "cb64dd8e-02d2-4e07-fe0b-c0ac918a8ba2"
      },
      "source": [
        "S=df.loc[df['Embarked']=='S']['Survived']\n",
        "C=df.loc[df['Embarked']=='C']['Survived']\n",
        "Q=df.loc[df['Embarked']=='Q']['Survived']\n",
        "Q.value_counts()"
      ],
      "execution_count": 71,
      "outputs": [
        {
          "output_type": "execute_result",
          "data": {
            "text/plain": [
              "0    47\n",
              "1    30\n",
              "Name: Survived, dtype: int64"
            ]
          },
          "metadata": {},
          "execution_count": 71
        }
      ]
    },
    {
      "cell_type": "code",
      "metadata": {
        "colab": {
          "base_uri": "https://localhost:8080/",
          "height": 353
        },
        "id": "Ca8uDyKm82bA",
        "outputId": "20ac4172-b6ef-47b4-d555-2a58afef56be"
      },
      "source": [
        "fig,(ax1,ax2,ax3)=plt.subplots(nrows=1,ncols=3,figsize=(12,5))\n",
        "ax1.bar(list(('0','1')),S.value_counts().sort_index(),color=['Red','Blue'])\n",
        "ax2.bar(list(('0','1')),C.value_counts().sort_index(),color=['Red','Blue'])\n",
        "ax3.bar(list(('0','1')),Q.value_counts().sort_index(),color=['Red','Blue'])\n",
        "ax1.legend(handles,labels)\n",
        "ax2.legend(handles,labels)\n",
        "ax3.legend(handles,labels)\n",
        "ax1.set_title('Southampton Survival')\n",
        "ax2.set_title('Cherbourg Survival')\n",
        "ax3.set_title('Queenstown Survival')"
      ],
      "execution_count": 72,
      "outputs": [
        {
          "output_type": "execute_result",
          "data": {
            "text/plain": [
              "Text(0.5, 1.0, 'Queenstown Survival')"
            ]
          },
          "metadata": {},
          "execution_count": 72
        },
        {
          "output_type": "display_data",
          "data": {
            "image/png": "[encoded data removed]",
            "text/plain": [
              "<Figure size 864x360 with 3 Axes>"
            ]
          },
          "metadata": {
            "needs_background": "light"
          }
        }
      ]
    },
    {
      "cell_type": "code",
      "metadata": {
        "colab": {
          "base_uri": "https://localhost:8080/"
        },
        "id": "YLsmLLie-oTd",
        "outputId": "7c0606fe-1e7f-439f-87c7-34ee6141271e"
      },
      "source": [
        "print(f\"Percentage of Survival of people travelling to Southampton {round((sum(S)/len(S))*100,1)}%\")\n",
        "print(f\"Percentage of Survival of people travelling to Cherbourg {round((sum(C)/len(C))*100,1)}%\")\n",
        "print(f\"Percentage of Survival of people travelling to Queenstown {round((sum(Q)/len(Q))*100,1)}%\")"
      ],
      "execution_count": 73,
      "outputs": [
        {
          "output_type": "stream",
          "text": [
            "Percentage of Survival of people travelling to Southampton 33.7%\n",
            "Percentage of Survival of people travelling to Cherbourg 55.4%\n",
            "Percentage of Survival of people travelling to Queenstown 39.0%\n"
          ],
          "name": "stdout"
        }
      ]
    },
    {
      "cell_type": "code",
      "metadata": {
        "colab": {
          "base_uri": "https://localhost:8080/",
          "height": 282
        },
        "id": "7kPEoBv6_i_3",
        "outputId": "a7844067-0b48-4728-8bdd-f41a56b9b1ee"
      },
      "source": [
        "df['Age'].hist()"
      ],
      "execution_count": 74,
      "outputs": [
        {
          "output_type": "execute_result",
          "data": {
            "text/plain": [
              "<matplotlib.axes._subplots.AxesSubplot at 0x7efecdecb410>"
            ]
          },
          "metadata": {},
          "execution_count": 74
        },
        {
          "output_type": "display_data",
          "data": {
            "image/png": "[encoded data removed]",
            "text/plain": [
              "<Figure size 432x288 with 1 Axes>"
            ]
          },
          "metadata": {
            "needs_background": "light"
          }
        }
      ]
    },
    {
      "cell_type": "code",
      "metadata": {
        "colab": {
          "base_uri": "https://localhost:8080/",
          "height": 282
        },
        "id": "-5sXQJxrA8Ij",
        "outputId": "19887d09-f3ee-4bd4-b2ae-557053b70d46"
      },
      "source": [
        "df['Fare'].hist()"
      ],
      "execution_count": 75,
      "outputs": [
        {
          "output_type": "execute_result",
          "data": {
            "text/plain": [
              "<matplotlib.axes._subplots.AxesSubplot at 0x7efecdf4e510>"
            ]
          },
          "metadata": {},
          "execution_count": 75
        },
        {
          "output_type": "display_data",
          "data": {
            "image/png": "[encoded data removed]",
            "text/plain": [
              "<Figure size 432x288 with 1 Axes>"
            ]
          },
          "metadata": {
            "needs_background": "light"
          }
        }
      ]
    },
    {
      "cell_type": "code",
      "metadata": {
        "id": "jVPq5X0eBNjE"
      },
      "source": [
        ""
      ],
      "execution_count": null,
      "outputs": []
    }
  ]
}